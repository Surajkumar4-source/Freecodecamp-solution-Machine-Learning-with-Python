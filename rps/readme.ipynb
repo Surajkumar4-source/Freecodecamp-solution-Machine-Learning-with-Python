{
 "cells": [
  {
   "attachments": {},
   "cell_type": "markdown",
   "id": "recorded-durham",
   "metadata": {
    "pycharm": {
     "name": "#%% md\n"
    }
   },
   "source": [
    "# Rock Paper Scissors"
   ]
  },
  {
   "attachments": {},
   "cell_type": "markdown",
   "id": "blond-sharp",
   "metadata": {
    "pycharm": {
     "name": "#%% md\n"
    }
   },
   "source": [
    "## Note\n",
    "\n",
    "This is actually the hardest problem to me among all 5 final projects of the AI course.\n",
    "\n",
    "This probably is cheating, but I learn the idea for the solution from [Milk's solution](https://forum.freecodecamp.org/t/machine-learning-with-python-projects-rock-paper-scissors/412794/5).\n",
    "\n",
    "I don't who implement the `abby` player, but it's really hard to beat.\n",
    "\n",
    "Time spent here: **5h**"
   ]
  },
  {
   "attachments": {},
   "cell_type": "markdown",
   "id": "metallic-matter",
   "metadata": {
    "pycharm": {
     "name": "#%% md\n"
    }
   },
   "source": [
    "## Problem description"
   ]
  },
  {
   "attachments": {},
   "cell_type": "markdown",
   "id": "unable-appreciation",
   "metadata": {
    "pycharm": {
     "name": "#%% md\n"
    }
   },
   "source": [
    "### Assignment"
   ]
  },
  {
   "attachments": {},
   "cell_type": "markdown",
   "id": "contained-intellectual",
   "metadata": {
    "pycharm": {
     "name": "#%% md\n"
    }
   },
   "source": [
    "For this challenge, you will create a program to play Rock, Paper, Scissors.\n",
    "A program that picks at random will usually win 50% of the time. To pass\n",
    "this challenge your program must play matches against four different bots,\n",
    "winning at least 60% of the games in each match."
   ]
  },
  {
   "attachments": {},
   "cell_type": "markdown",
   "id": "pressing-aquatic",
   "metadata": {
    "pycharm": {
     "name": "#%% md\n"
    }
   },
   "source": [
    "In the file `RPS.py` you are provided with a function called `player`. The\n",
    "function takes an argument that is a string describing the last move of the\n",
    "opponent (\"R\", \"P\", or \"S\"). The function should return a string\n",
    "representing the next move for it to play (\"R\", \"P\", or \"S\")."
   ]
  },
  {
   "attachments": {},
   "cell_type": "markdown",
   "id": "reasonable-posting",
   "metadata": {
    "pycharm": {
     "name": "#%% md\n"
    }
   },
   "source": [
    "A player function will receive an empty string as an argument for the first\n",
    "game in a match since there is no previous play."
   ]
  },
  {
   "attachments": {},
   "cell_type": "markdown",
   "id": "affected-assessment",
   "metadata": {
    "pycharm": {
     "name": "#%% md\n"
    }
   },
   "source": [
    "The file `RPS.py` shows an example function that you will need to update.\n",
    "The example function is defined with two arguments\n",
    "(`player(prev_play, opponent_history = [])`). The function is never called\n",
    "with a second argument so that one is completely optional. The reason why\n",
    "the example function contains a second argument (`opponent_history = []`) is\n",
    "because that is the only way to save state between consecutive calls of the\n",
    "`player` function. You only need the `opponent_history` argument if you want\n",
    "to keep track of the opponent_history."
   ]
  },
  {
   "attachments": {},
   "cell_type": "markdown",
   "id": "animated-timeline",
   "metadata": {
    "pycharm": {
     "name": "#%% md\n"
    }
   },
   "source": [
    "_Hint: To defeat all four opponents, your program may need to have multiple\n",
    "strategies that change depending on the plays of the opponent._"
   ]
  },
  {
   "attachments": {},
   "cell_type": "markdown",
   "id": "medieval-convertible",
   "metadata": {
    "pycharm": {
     "name": "#%% md\n"
    }
   },
   "source": [
    "### Development"
   ]
  },
  {
   "attachments": {},
   "cell_type": "markdown",
   "id": "simple-positive",
   "metadata": {
    "pycharm": {
     "name": "#%% md\n"
    }
   },
   "source": [
    "Do not modify `RPS_game.py`. Write all your code in `RPS.py`. For\n",
    "development, you can use `main.py` to test your code."
   ]
  },
  {
   "attachments": {},
   "cell_type": "markdown",
   "id": "accessory-accessory",
   "metadata": {
    "pycharm": {
     "name": "#%% md\n"
    }
   },
   "source": [
    "`main.py` imports the game function and bots from `RPS_game.py`."
   ]
  },
  {
   "attachments": {},
   "cell_type": "markdown",
   "id": "acute-chambers",
   "metadata": {
    "pycharm": {
     "name": "#%% md\n"
    }
   },
   "source": [
    "To test your code, play a game with the `play` function. The `play` function\n",
    "takes four arguments:"
   ]
  },
  {
   "attachments": {},
   "cell_type": "markdown",
   "id": "cellular-chart",
   "metadata": {
    "pycharm": {
     "name": "#%% md\n"
    }
   },
   "source": [
    "- two players to play against each other (the players are actually\n",
    "  functions)\n",
    "- the number of games to play in the match\n",
    "- an optional argument to see a log of each game. Set it to `True` to see\n",
    "  these messages."
   ]
  },
  {
   "attachments": {},
   "cell_type": "markdown",
   "id": "political-exclusive",
   "metadata": {
    "pycharm": {
     "name": "#%% md\n"
    }
   },
   "source": [
    "```py\n",
    "play(player1, player2, num_games[, verbose])\n",
    "```"
   ]
  },
  {
   "attachments": {},
   "cell_type": "markdown",
   "id": "eligible-innocent",
   "metadata": {
    "pycharm": {
     "name": "#%% md\n"
    }
   },
   "source": [
    "For example, here is how you would call the function if you want `player`\n",
    "and `quincy` to play 1000 games against each other and you want to see the\n",
    "results of each game:"
   ]
  },
  {
   "attachments": {},
   "cell_type": "markdown",
   "id": "acceptable-elizabeth",
   "metadata": {
    "pycharm": {
     "name": "#%% md\n"
    }
   },
   "source": [
    "```py\n",
    "play(player, quincy, 1000, verbose=True)\n",
    "```\n",
    "\n",
    "## Game driver"
   ]
  },
  {
   "attachments": {},
   "cell_type": "markdown",
   "metadata": {},
   "source": [
    "This is provided by FCC.\n"
   ]
  },
  {
   "cell_type": "code",
   "execution_count": 1,
   "metadata": {
    "pycharm": {
     "name": "#%%\n"
    }
   },
   "outputs": [],
   "source": [
    "import random\n",
    "from collections import Counter"
   ]
  },
  {
   "cell_type": "code",
   "execution_count": 2,
   "metadata": {
    "pycharm": {
     "name": "#%%\n"
    }
   },
   "outputs": [],
   "source": [
    "def play(player1, player2, num_games, verbose=False):\n",
    "    p1_prev_play = \"\"\n",
    "    p2_prev_play = \"\"\n",
    "    results = {\"p1\": 0, \"p2\": 0, \"tie\": 0}\n",
    "\n",
    "    for _ in range(num_games):\n",
    "        p1_play = player1(p2_prev_play)\n",
    "        p2_play = player2(p1_prev_play)\n",
    "\n",
    "        if p1_play == p2_play:\n",
    "            results[\"tie\"] += 1\n",
    "            winner = \"Tie.\"\n",
    "        elif (\n",
    "            (p1_play == \"P\" and p2_play == \"R\")\n",
    "            or (p1_play == \"R\" and p2_play == \"S\")\n",
    "            or (p1_play == \"S\" and p2_play == \"P\")\n",
    "        ):\n",
    "            results[\"p1\"] += 1\n",
    "            winner = \"Player 1 wins.\"\n",
    "        elif (\n",
    "            p2_play == \"P\"\n",
    "            and p1_play == \"R\"\n",
    "            or p2_play == \"R\"\n",
    "            and p1_play == \"S\"\n",
    "            or p2_play == \"S\"\n",
    "            and p1_play == \"P\"\n",
    "        ):\n",
    "            results[\"p2\"] += 1\n",
    "            winner = \"Player 2 wins.\"\n",
    "\n",
    "        if verbose:\n",
    "            print(\"Player 1:\", p1_play, \"| Player 2:\", p2_play)\n",
    "            print(winner)\n",
    "            print()\n",
    "\n",
    "        p1_prev_play = p1_play\n",
    "        p2_prev_play = p2_play\n",
    "\n",
    "    games_won = results[\"p2\"] + results[\"p1\"]\n",
    "\n",
    "    if games_won == 0:\n",
    "        win_rate = 0\n",
    "    else:\n",
    "        win_rate = results[\"p1\"] / games_won * 100\n",
    "\n",
    "    print(\"Final results:\", results)\n",
    "    print(f\"Player 1 win rate: {win_rate}%\")\n",
    "\n",
    "    return win_rate"
   ]
  },
  {
   "cell_type": "code",
   "execution_count": 3,
   "metadata": {
    "pycharm": {
     "name": "#%%\n"
    }
   },
   "outputs": [],
   "source": [
    "def quincy(prev_play, counter=[0]):\n",
    "    counter[0] += 1\n",
    "    choices = [\"R\", \"R\", \"P\", \"P\", \"S\"]\n",
    "    return choices[counter[0] % len(choices)]"
   ]
  },
  {
   "cell_type": "code",
   "execution_count": 4,
   "metadata": {
    "pycharm": {
     "name": "#%%\n"
    }
   },
   "outputs": [],
   "source": [
    "def mrugesh(prev_opponent_play, opponent_history=[]):\n",
    "    opponent_history.append(prev_opponent_play)\n",
    "    last_ten = opponent_history[-10:]\n",
    "    most_frequent = max(set(last_ten), key=last_ten.count)\n",
    "\n",
    "    if most_frequent == \"\":\n",
    "        most_frequent = \"S\"\n",
    "\n",
    "    ideal_response = {\"P\": \"S\", \"R\": \"P\", \"S\": \"R\"}\n",
    "    return ideal_response[most_frequent]"
   ]
  },
  {
   "cell_type": "code",
   "execution_count": 5,
   "metadata": {
    "pycharm": {
     "name": "#%%\n"
    }
   },
   "outputs": [],
   "source": [
    "def kris(prev_opponent_play):\n",
    "    if prev_opponent_play == \"\":\n",
    "        prev_opponent_play = \"R\"\n",
    "    ideal_response = {\"P\": \"S\", \"R\": \"P\", \"S\": \"R\"}\n",
    "    return ideal_response[prev_opponent_play]"
   ]
  },
  {
   "cell_type": "code",
   "execution_count": 6,
   "metadata": {
    "pycharm": {
     "name": "#%%\n"
    }
   },
   "outputs": [],
   "source": [
    "def abbey(\n",
    "    prev_opponent_play,\n",
    "    opponent_history=[],\n",
    "    play_order=[\n",
    "        {\n",
    "            \"RR\": 0,\n",
    "            \"RP\": 0,\n",
    "            \"RS\": 0,\n",
    "            \"PR\": 0,\n",
    "            \"PP\": 0,\n",
    "            \"PS\": 0,\n",
    "            \"SR\": 0,\n",
    "            \"SP\": 0,\n",
    "            \"SS\": 0,\n",
    "        }\n",
    "    ],\n",
    "):\n",
    "    if not prev_opponent_play:\n",
    "        prev_opponent_play = \"R\"\n",
    "    opponent_history.append(prev_opponent_play)\n",
    "\n",
    "    last_two = \"\".join(opponent_history[-2:])\n",
    "    if len(last_two) == 2:\n",
    "        play_order[0][last_two] += 1\n",
    "\n",
    "    potential_plays = [\n",
    "        prev_opponent_play + \"R\",\n",
    "        prev_opponent_play + \"P\",\n",
    "        prev_opponent_play + \"S\",\n",
    "    ]\n",
    "\n",
    "    sub_order = {\n",
    "        k: play_order[0][k] for k in potential_plays if k in play_order[0]\n",
    "    }\n",
    "    prediction = max(sub_order, key=sub_order.get)[-1:]\n",
    "\n",
    "    ideal_response = {\"P\": \"S\", \"R\": \"P\", \"S\": \"R\"}\n",
    "    return ideal_response[prediction]"
   ]
  },
  {
   "cell_type": "code",
   "execution_count": 7,
   "metadata": {
    "pycharm": {
     "name": "#%%\n"
    }
   },
   "outputs": [],
   "source": [
    "def human(prev_opponent_play):\n",
    "    play = \"\"\n",
    "    while play not in [\"R\", \"P\", \"S\"]:\n",
    "        play = input(\"[R]ock, [P]aper, [S]cissors? \")\n",
    "        print(play)\n",
    "    return play"
   ]
  },
  {
   "cell_type": "code",
   "execution_count": 8,
   "metadata": {
    "pycharm": {
     "name": "#%%\n"
    }
   },
   "outputs": [],
   "source": [
    "def random_player(prev_opponent_play):\n",
    "    return random.choice([\"R\", \"P\", \"S\"])\n"
   ]
  },
  {
   "attachments": {},
   "cell_type": "markdown",
   "id": "common-comedy",
   "metadata": {
    "pycharm": {
     "name": "#%% md\n"
    }
   },
   "source": [
    "## Solution"
   ]
  },
  {
   "attachments": {},
   "cell_type": "markdown",
   "id": "comprehensive-sending",
   "metadata": {
    "pycharm": {
     "name": "#%% md\n"
    }
   },
   "source": [
    "Map between a move and its counter."
   ]
  },
  {
   "cell_type": "code",
   "execution_count": 9,
   "id": "behind-panic",
   "metadata": {
    "lines_to_next_cell": 2
   },
   "outputs": [],
   "source": [
    "counter_move = {\"R\": \"P\", \"P\": \"S\", \"S\": \"R\"}"
   ]
  },
  {
   "attachments": {},
   "cell_type": "markdown",
   "metadata": {
    "pycharm": {
     "name": "#%% md\n"
    }
   },
   "source": [
    "Our player implementation"
   ]
  },
  {
   "cell_type": "code",
   "execution_count": 10,
   "id": "confused-association",
   "metadata": {
    "lines_to_next_cell": 2
   },
   "outputs": [
    {
     "name": "stdout",
     "output_type": "stream",
     "text": [
      "Final results: {'p1': 992, 'p2': 3, 'tie': 5}\n",
      "Player 1 win rate: 99.69849246231156%\n",
      "Final results: {'p1': 828, 'p2': 165, 'tie': 7}\n",
      "Player 1 win rate: 83.38368580060424%\n",
      "Final results: {'p1': 447, 'p2': 305, 'tie': 248}\n",
      "Player 1 win rate: 59.441489361702125%\n",
      "Final results: {'p1': 754, 'p2': 120, 'tie': 126}\n",
      "Player 1 win rate: 86.2700228832952%\n"
     ]
    },
    {
     "data": {
      "text/plain": [
       "86.2700228832952"
      ]
     },
     "execution_count": 10,
     "metadata": {},
     "output_type": "execute_result"
    }
   ],
   "source": [
    "steps = {}\n",
    "\n",
    "\n",
    "# the strategy is similar to abbey, but we look backs harder than her.\n",
    "# she only look back 2 steps, find most frequently pattern of all 2 moves,\n",
    "#\n",
    "# Other strategies:\n",
    "#\n",
    "# - quincy repeat 5 moves\n",
    "# - kris always counter our last moves, hence, once we establed a patterns, he\n",
    "# is not a problem\n",
    "# - mrugresh look for our top pick in last 10 moves, hence, similar to kris,\n",
    "# once we establed a pattern, we're in control.\n",
    "def player(prev_play, opponent_history=[]):\n",
    "    if prev_play != \"\":\n",
    "        opponent_history.append(prev_play)\n",
    "\n",
    "    # Interestingly, 3 to 6 works best, as in we win more than 60%.\n",
    "    # If n is larger than 6, we start to get terrible result.\n",
    "    # I guess it's becauase we don't have enough data to predict once n get that\n",
    "    # larger, we only play 1000 games.\n",
    "    n = 5\n",
    "\n",
    "    hist = opponent_history\n",
    "\n",
    "    guess = \"R\"\n",
    "    if len(hist) > n:\n",
    "        pattern = join(hist[-n:])\n",
    "\n",
    "        if join(hist[-(n + 1):]) in steps.keys():\n",
    "            steps[join(hist[-(n + 1):])] += 1\n",
    "        else:\n",
    "            steps[join(hist[-(n + 1):])] = 1\n",
    "\n",
    "        possible = [pattern + \"R\", pattern + \"P\", pattern + \"S\"]\n",
    "\n",
    "        for i in possible:\n",
    "            if not i in steps.keys():\n",
    "                steps[i] = 0\n",
    "\n",
    "        predict = max(possible, key=lambda key: steps[key])\n",
    "\n",
    "        if predict[-1] == \"P\":\n",
    "            guess = \"S\"\n",
    "        if predict[-1] == \"R\":\n",
    "            guess = \"P\"\n",
    "        if predict[-1] == \"S\":\n",
    "            guess = \"R\"\n",
    "\n",
    "    return guess\n",
    "\n",
    "\n",
    "def join(moves):\n",
    "    return \"\".join(moves)\n",
    "\n",
    "\n",
    "play(player, quincy, 1000)\n",
    "play(player, mrugesh, 1000)\n",
    "play(player, abbey, 1000)\n",
    "play(player, kris, 1000)"
   ]
  },
  {
   "attachments": {},
   "cell_type": "markdown",
   "id": "interstate-zealand",
   "metadata": {
    "pycharm": {
     "name": "#%% md\n"
    }
   },
   "source": [
    "## Test"
   ]
  },
  {
   "cell_type": "code",
   "execution_count": 11,
   "metadata": {},
   "outputs": [
    {
     "name": "stderr",
     "output_type": "stream",
     "text": [
      "...."
     ]
    },
    {
     "name": "stdout",
     "output_type": "stream",
     "text": [
      "\n",
      "Testing game against abbey...\n",
      "Final results: {'p1': 521, 'p2': 273, 'tie': 206}\n",
      "Player 1 win rate: 65.61712846347606%\n",
      "Testing game against kris...\n",
      "Final results: {'p1': 999, 'p2': 1, 'tie': 0}\n",
      "Player 1 win rate: 99.9%\n",
      "Testing game against mrugesh...\n",
      "Final results: {'p1': 841, 'p2': 158, 'tie': 1}\n",
      "Player 1 win rate: 84.18418418418419%\n",
      "Testing game against quincy...\n",
      "Final results: {'p1': 998, 'p2': 1, 'tie': 1}\n",
      "Player 1 win rate: 99.8998998998999%\n"
     ]
    },
    {
     "name": "stderr",
     "output_type": "stream",
     "text": [
      "\n",
      "----------------------------------------------------------------------\n",
      "Ran 4 tests in 0.035s\n",
      "\n",
      "OK\n"
     ]
    }
   ],
   "source": [
    "import unittest\n",
    "\n",
    "class UnitTests(unittest.TestCase):\n",
    "    print()\n",
    "\n",
    "    def test_player_vs_quincy(self):\n",
    "        print(\"Testing game against quincy...\")\n",
    "        actual = play(player, quincy, 1000) >= 60\n",
    "        self.assertTrue(\n",
    "            actual,\n",
    "            'Expected player to defeat quincy at least 60% of the time.')\n",
    "\n",
    "    def test_player_vs_abbey(self):\n",
    "        print(\"Testing game against abbey...\")\n",
    "        actual = play(player, abbey, 1000) >= 60\n",
    "        self.assertTrue(\n",
    "            actual,\n",
    "            'Expected player to defeat abbey at least 60% of the time.')\n",
    "\n",
    "    def test_player_vs_kris(self):\n",
    "        print(\"Testing game against kris...\")\n",
    "        actual = play(player, kris, 1000) >= 60\n",
    "        self.assertTrue(\n",
    "            actual, 'Expected player to defeat kris at least 60% of the time.')\n",
    "\n",
    "    def test_player_vs_mrugesh(self):\n",
    "        print(\"Testing game against mrugesh...\")\n",
    "        actual = play(player, mrugesh, 1000) >= 60\n",
    "        self.assertTrue(\n",
    "            actual,\n",
    "            'Expected player to defeat mrugesh at least 60% of the time.')\n",
    "\n",
    "\n",
    "if __name__ == \"__main__\":\n",
    "    unittest.main(argv=[\"first-arg-is-ignored\"], exit=False)"
   ]
  }
 ],
 "metadata": {
  "jupytext": {
   "hide_notebook_metadata": true
  },
  "kernelspec": {
   "display_name": "Python 3",
   "language": "python",
   "name": "python3"
  },
  "language_info": {
   "codemirror_mode": {
    "name": "ipython",
    "version": 3
   },
   "file_extension": ".py",
   "mimetype": "text/x-python",
   "name": "python",
   "nbconvert_exporter": "python",
   "pygments_lexer": "ipython3",
   "version": "3.6.9"
  }
 },
 "nbformat": 4,
 "nbformat_minor": 5
}
